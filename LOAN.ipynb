{
 "cells": [
  {
   "cell_type": "code",
   "execution_count": 26,
   "metadata": {},
   "outputs": [],
   "source": [
    "import pandas as pd \n",
    "import numpy as np"
   ]
  },
  {
   "cell_type": "code",
   "execution_count": 27,
   "metadata": {},
   "outputs": [],
   "source": [
    "df =pd.read_csv('C:/Users/Grodencia/Documents/MACHINE LEARNING/LoanPred/train_LZV4RXX.csv',index_col='loan_id')\n",
    "test = pd.read_csv('C:/Users/Grodencia/Documents/MACHINE LEARNING/LoanPred/test_4zJg83n.csv',)"
   ]
  },
  {
   "cell_type": "code",
   "execution_count": 28,
   "metadata": {},
   "outputs": [],
   "source": [
    "ID  = test['loan_id'].to_frame('loan_id').reset_index(drop = True)"
   ]
  },
  {
   "cell_type": "code",
   "execution_count": 29,
   "metadata": {},
   "outputs": [],
   "source": [
    "Data = test.drop(columns=['loan_id'])"
   ]
  },
  {
   "cell_type": "code",
   "execution_count": 30,
   "metadata": {},
   "outputs": [],
   "source": [
    "features = df.drop(columns=['loan_default'])\n",
    "target = df['loan_default']"
   ]
  },
  {
   "cell_type": "code",
   "execution_count": 31,
   "metadata": {},
   "outputs": [],
   "source": [
    "import pandas as pd\n",
    "from sklearn.compose import ColumnTransformer\n",
    "from sklearn.pipeline import Pipeline\n",
    "from sklearn.impute import SimpleImputer\n",
    "from sklearn.preprocessing import StandardScaler\n",
    "from category_encoders import CountEncoder\n",
    "\n",
    "def preprocess_pipeline(df):\n",
    "    def preprocess_data(df, numerical_features, categorical_features):\n",
    "        # Define the transformers for numerical and categorical features\n",
    "        numeric_transformer = Pipeline(steps=[\n",
    "            ('imputer', SimpleImputer(strategy='most_frequent')),\n",
    "            ('scaler', StandardScaler())\n",
    "        ])\n",
    "\n",
    "        categorical_transformer = Pipeline(steps=[\n",
    "            ('imputer', SimpleImputer(strategy='most_frequent')),\n",
    "            ('encoder', CountEncoder())\n",
    "        ])\n",
    "\n",
    "        # Create the ColumnTransformer\n",
    "        preprocessor = ColumnTransformer(transformers=[\n",
    "            ('numeric', numeric_transformer, numerical_features),\n",
    "            ('categorical', categorical_transformer, categorical_features)\n",
    "        ])\n",
    "\n",
    "        # Apply preprocessing to the dataset\n",
    "        preprocessed_data = preprocessor.fit_transform(df)\n",
    "\n",
    "        # Get the column names after preprocessing\n",
    "        transformed_cols = numerical_features + categorical_features\n",
    "        transformed_data = pd.DataFrame(preprocessed_data, columns=transformed_cols)\n",
    "\n",
    "        return transformed_data\n",
    "\n",
    "    def select_features(df):\n",
    "        # Select numerical features using select_dtypes\n",
    "        numerical_features = df.select_dtypes(include=['int64', 'float64']).columns.tolist()\n",
    "\n",
    "        # Select categorical features using select_dtypes\n",
    "        categorical_features = df.select_dtypes(include='object').columns.tolist()\n",
    "\n",
    "        return numerical_features, categorical_features\n",
    "\n",
    "    # Call the select_features function to determine the numerical and categorical features\n",
    "    numerical_features, categorical_features = select_features(df)\n",
    "\n",
    "    # Call the preprocess_data function to preprocess the dataset\n",
    "    preprocessed_data = preprocess_data(df, numerical_features, categorical_features)\n",
    "\n",
    "    return preprocessed_data\n",
    "\n",
    "\n"
   ]
  },
  {
   "cell_type": "code",
   "execution_count": 32,
   "metadata": {},
   "outputs": [
    {
     "data": {
      "text/html": [
       "<div>\n",
       "<style scoped>\n",
       "    .dataframe tbody tr th:only-of-type {\n",
       "        vertical-align: middle;\n",
       "    }\n",
       "\n",
       "    .dataframe tbody tr th {\n",
       "        vertical-align: top;\n",
       "    }\n",
       "\n",
       "    .dataframe thead th {\n",
       "        text-align: right;\n",
       "    }\n",
       "</style>\n",
       "<table border=\"1\" class=\"dataframe\">\n",
       "  <thead>\n",
       "    <tr style=\"text-align: right;\">\n",
       "      <th></th>\n",
       "      <th>age</th>\n",
       "      <th>education</th>\n",
       "      <th>loan_amount</th>\n",
       "      <th>asset_cost</th>\n",
       "      <th>no_of_loans</th>\n",
       "      <th>no_of_curr_loans</th>\n",
       "      <th>last_delinq_none</th>\n",
       "      <th>proof_submitted</th>\n",
       "    </tr>\n",
       "  </thead>\n",
       "  <tbody>\n",
       "    <tr>\n",
       "      <th>0</th>\n",
       "      <td>-1.198943</td>\n",
       "      <td>-1.168616</td>\n",
       "      <td>-1.062009</td>\n",
       "      <td>-0.444709</td>\n",
       "      <td>-0.155950</td>\n",
       "      <td>0.287265</td>\n",
       "      <td>-0.116037</td>\n",
       "      <td>5931.0</td>\n",
       "    </tr>\n",
       "    <tr>\n",
       "      <th>1</th>\n",
       "      <td>1.568892</td>\n",
       "      <td>-1.168616</td>\n",
       "      <td>0.435246</td>\n",
       "      <td>-0.395640</td>\n",
       "      <td>0.575106</td>\n",
       "      <td>0.287265</td>\n",
       "      <td>-0.116037</td>\n",
       "      <td>5931.0</td>\n",
       "    </tr>\n",
       "    <tr>\n",
       "      <th>2</th>\n",
       "      <td>-0.803538</td>\n",
       "      <td>0.855713</td>\n",
       "      <td>-0.136308</td>\n",
       "      <td>-0.420594</td>\n",
       "      <td>-0.521478</td>\n",
       "      <td>-0.626344</td>\n",
       "      <td>-0.116037</td>\n",
       "      <td>707.0</td>\n",
       "    </tr>\n",
       "    <tr>\n",
       "      <th>3</th>\n",
       "      <td>-1.067142</td>\n",
       "      <td>-1.168616</td>\n",
       "      <td>0.555405</td>\n",
       "      <td>0.068186</td>\n",
       "      <td>-0.521478</td>\n",
       "      <td>-0.626344</td>\n",
       "      <td>-0.116037</td>\n",
       "      <td>5931.0</td>\n",
       "    </tr>\n",
       "    <tr>\n",
       "      <th>4</th>\n",
       "      <td>-0.935340</td>\n",
       "      <td>-1.168616</td>\n",
       "      <td>3.181030</td>\n",
       "      <td>4.595834</td>\n",
       "      <td>-0.521478</td>\n",
       "      <td>-0.626344</td>\n",
       "      <td>-0.116037</td>\n",
       "      <td>5931.0</td>\n",
       "    </tr>\n",
       "    <tr>\n",
       "      <th>...</th>\n",
       "      <td>...</td>\n",
       "      <td>...</td>\n",
       "      <td>...</td>\n",
       "      <td>...</td>\n",
       "      <td>...</td>\n",
       "      <td>...</td>\n",
       "      <td>...</td>\n",
       "      <td>...</td>\n",
       "    </tr>\n",
       "    <tr>\n",
       "      <th>6995</th>\n",
       "      <td>1.173487</td>\n",
       "      <td>0.855713</td>\n",
       "      <td>1.786309</td>\n",
       "      <td>1.594783</td>\n",
       "      <td>-0.521478</td>\n",
       "      <td>-0.626344</td>\n",
       "      <td>-0.116037</td>\n",
       "      <td>5931.0</td>\n",
       "    </tr>\n",
       "    <tr>\n",
       "      <th>6996</th>\n",
       "      <td>0.646280</td>\n",
       "      <td>0.855713</td>\n",
       "      <td>0.118509</td>\n",
       "      <td>-0.584024</td>\n",
       "      <td>0.209578</td>\n",
       "      <td>1.200873</td>\n",
       "      <td>-0.116037</td>\n",
       "      <td>5931.0</td>\n",
       "    </tr>\n",
       "    <tr>\n",
       "      <th>6997</th>\n",
       "      <td>1.437090</td>\n",
       "      <td>0.855713</td>\n",
       "      <td>-0.238442</td>\n",
       "      <td>-0.913682</td>\n",
       "      <td>5.875258</td>\n",
       "      <td>4.398503</td>\n",
       "      <td>-0.116037</td>\n",
       "      <td>5931.0</td>\n",
       "    </tr>\n",
       "    <tr>\n",
       "      <th>6998</th>\n",
       "      <td>0.382677</td>\n",
       "      <td>-1.168616</td>\n",
       "      <td>-0.057724</td>\n",
       "      <td>-0.570876</td>\n",
       "      <td>-0.521478</td>\n",
       "      <td>-0.626344</td>\n",
       "      <td>-0.116037</td>\n",
       "      <td>5931.0</td>\n",
       "    </tr>\n",
       "    <tr>\n",
       "      <th>6999</th>\n",
       "      <td>-0.671737</td>\n",
       "      <td>-1.168616</td>\n",
       "      <td>0.278720</td>\n",
       "      <td>-0.072920</td>\n",
       "      <td>-0.521478</td>\n",
       "      <td>-0.626344</td>\n",
       "      <td>-0.116037</td>\n",
       "      <td>5931.0</td>\n",
       "    </tr>\n",
       "  </tbody>\n",
       "</table>\n",
       "<p>7000 rows × 8 columns</p>\n",
       "</div>"
      ],
      "text/plain": [
       "           age  education  loan_amount  asset_cost  no_of_loans   \n",
       "0    -1.198943  -1.168616    -1.062009   -0.444709    -0.155950  \\\n",
       "1     1.568892  -1.168616     0.435246   -0.395640     0.575106   \n",
       "2    -0.803538   0.855713    -0.136308   -0.420594    -0.521478   \n",
       "3    -1.067142  -1.168616     0.555405    0.068186    -0.521478   \n",
       "4    -0.935340  -1.168616     3.181030    4.595834    -0.521478   \n",
       "...        ...        ...          ...         ...          ...   \n",
       "6995  1.173487   0.855713     1.786309    1.594783    -0.521478   \n",
       "6996  0.646280   0.855713     0.118509   -0.584024     0.209578   \n",
       "6997  1.437090   0.855713    -0.238442   -0.913682     5.875258   \n",
       "6998  0.382677  -1.168616    -0.057724   -0.570876    -0.521478   \n",
       "6999 -0.671737  -1.168616     0.278720   -0.072920    -0.521478   \n",
       "\n",
       "      no_of_curr_loans  last_delinq_none  proof_submitted  \n",
       "0             0.287265         -0.116037           5931.0  \n",
       "1             0.287265         -0.116037           5931.0  \n",
       "2            -0.626344         -0.116037            707.0  \n",
       "3            -0.626344         -0.116037           5931.0  \n",
       "4            -0.626344         -0.116037           5931.0  \n",
       "...                ...               ...              ...  \n",
       "6995         -0.626344         -0.116037           5931.0  \n",
       "6996          1.200873         -0.116037           5931.0  \n",
       "6997          4.398503         -0.116037           5931.0  \n",
       "6998         -0.626344         -0.116037           5931.0  \n",
       "6999         -0.626344         -0.116037           5931.0  \n",
       "\n",
       "[7000 rows x 8 columns]"
      ]
     },
     "execution_count": 32,
     "metadata": {},
     "output_type": "execute_result"
    }
   ],
   "source": [
    "# Assuming you have defined df as the test dataset\n",
    "X = preprocess_pipeline(features)\n",
    "X"
   ]
  },
  {
   "cell_type": "code",
   "execution_count": 33,
   "metadata": {},
   "outputs": [],
   "source": [
    "from sklearn.model_selection import train_test_split\n",
    "from sklearn.linear_model import LogisticRegression\n",
    "from sklearn.tree import DecisionTreeClassifier\n",
    "from sklearn.ensemble import RandomForestClassifier, GradientBoostingClassifier\n",
    "from sklearn.metrics import accuracy_score, precision_score, recall_score, f1_score, roc_auc_score"
   ]
  },
  {
   "cell_type": "code",
   "execution_count": 34,
   "metadata": {},
   "outputs": [],
   "source": [
    "#Split the Data\n",
    "X_train, X_test, y_train, y_test = train_test_split(X, target, test_size=0.2, random_state=42)"
   ]
  },
  {
   "cell_type": "code",
   "execution_count": 35,
   "metadata": {},
   "outputs": [],
   "source": [
    "\n",
    "\n",
    "def train_models(X_train, y_train):\n",
    "    models = {\n",
    "        \"Logistic Regression\": LogisticRegression(),\n",
    "        \"Decision Tree\": DecisionTreeClassifier(),\n",
    "        \"Random Forest\": RandomForestClassifier(),\n",
    "        \"Gradient Boosting\": GradientBoostingClassifier()\n",
    "    }\n",
    "\n",
    "    trained_models = {}\n",
    "    for model_name, model in models.items():\n",
    "        model.fit(X_train, y_train)\n",
    "        trained_models[model_name] = model\n",
    "\n",
    "    return trained_models\n",
    "\n",
    "def evaluate_model(model, X_test, y_test):\n",
    "    y_pred = model.predict(X_test)\n",
    "\n",
    "    # Evaluate the Model\n",
    "    accuracy = accuracy_score(y_test, y_pred)\n",
    "    precision = precision_score(y_test, y_pred)\n",
    "    recall = recall_score(y_test, y_pred)\n",
    "    f1 = f1_score(y_test, y_pred)\n",
    "    roc_auc = roc_auc_score(y_test, y_pred)\n",
    "\n",
    "    results = {\n",
    "        \"Accuracy\": accuracy,\n",
    "        \"Precision\": precision,\n",
    "        \"Recall\": recall,\n",
    "        \"F1 Score\": f1,\n",
    "        \"ROC AUC Score\": roc_auc\n",
    "    }\n",
    "\n",
    "    return results\n"
   ]
  },
  {
   "cell_type": "code",
   "execution_count": 36,
   "metadata": {},
   "outputs": [],
   "source": [
    "\n",
    "# Train the models\n",
    "trained_models = train_models(X_train, y_train)\n"
   ]
  },
  {
   "cell_type": "code",
   "execution_count": 37,
   "metadata": {},
   "outputs": [
    {
     "name": "stderr",
     "output_type": "stream",
     "text": [
      "c:\\Users\\Grodencia\\AppData\\Local\\Programs\\Python\\Python311\\Lib\\site-packages\\sklearn\\metrics\\_classification.py:1469: UndefinedMetricWarning: Precision is ill-defined and being set to 0.0 due to no predicted samples. Use `zero_division` parameter to control this behavior.\n",
      "  _warn_prf(average, modifier, msg_start, len(result))\n"
     ]
    }
   ],
   "source": [
    "# Select a particular model\n",
    "selected_model_name = \"Logistic Regression\"\n",
    "selected_model = trained_models[selected_model_name]\n",
    "\n",
    "# Evaluate the selected model\n",
    "selected_model_results = evaluate_model(selected_model, X_test, y_test)\n"
   ]
  },
  {
   "cell_type": "code",
   "execution_count": 38,
   "metadata": {},
   "outputs": [
    {
     "name": "stdout",
     "output_type": "stream",
     "text": [
      "Metrics for Logistic Regression:\n",
      "Accuracy: 0.6207142857142857\n",
      "Precision: 0.0\n",
      "Recall: 0.0\n",
      "F1 Score: 0.0\n",
      "ROC AUC Score: 0.5\n"
     ]
    }
   ],
   "source": [
    "# Print the results for the selected model\n",
    "print(f\"Metrics for {selected_model_name}:\")\n",
    "for metric_name, value in selected_model_results.items():\n",
    "    print(f\"{metric_name}: {value}\")"
   ]
  },
  {
   "cell_type": "code",
   "execution_count": 40,
   "metadata": {},
   "outputs": [],
   "source": [
    "preprocessed_new_data = preprocess_pipeline(Data)\n"
   ]
  },
  {
   "cell_type": "code",
   "execution_count": 43,
   "metadata": {},
   "outputs": [],
   "source": [
    "predictions = pd.Series(selected_model.predict(preprocessed_new_data))\n"
   ]
  },
  {
   "cell_type": "code",
   "execution_count": 44,
   "metadata": {},
   "outputs": [
    {
     "data": {
      "text/plain": [
       "0       0\n",
       "1       0\n",
       "2       0\n",
       "3       0\n",
       "4       0\n",
       "       ..\n",
       "2995    0\n",
       "2996    0\n",
       "2997    0\n",
       "2998    0\n",
       "2999    0\n",
       "Length: 3000, dtype: int64"
      ]
     },
     "execution_count": 44,
     "metadata": {},
     "output_type": "execute_result"
    }
   ],
   "source": [
    "predictions"
   ]
  },
  {
   "cell_type": "code",
   "execution_count": 45,
   "metadata": {},
   "outputs": [],
   "source": [
    "ld = predictions.to_frame('loan_default').reset_index(drop = True)"
   ]
  },
  {
   "cell_type": "code",
   "execution_count": 46,
   "metadata": {},
   "outputs": [
    {
     "name": "stdout",
     "output_type": "stream",
     "text": [
      "      loan_id  loan_default\n",
      "0        7001             0\n",
      "1        7002             0\n",
      "2        7003             0\n",
      "3        7004             0\n",
      "4        7005             0\n",
      "...       ...           ...\n",
      "2995     9996             0\n",
      "2996     9997             0\n",
      "2997     9998             0\n",
      "2998     9999             0\n",
      "2999    10000             0\n",
      "\n",
      "[3000 rows x 2 columns]\n"
     ]
    }
   ],
   "source": [
    "df_LG = pd.concat([ID, ld], axis = 1)\n",
    "print(df_LG )"
   ]
  }
 ],
 "metadata": {
  "kernelspec": {
   "display_name": "Python 3",
   "language": "python",
   "name": "python3"
  },
  "language_info": {
   "codemirror_mode": {
    "name": "ipython",
    "version": 3
   },
   "file_extension": ".py",
   "mimetype": "text/x-python",
   "name": "python",
   "nbconvert_exporter": "python",
   "pygments_lexer": "ipython3",
   "version": "3.11.4"
  },
  "orig_nbformat": 4
 },
 "nbformat": 4,
 "nbformat_minor": 2
}
